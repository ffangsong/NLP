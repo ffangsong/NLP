{
 "cells": [
  {
   "cell_type": "code",
   "execution_count": 164,
   "metadata": {},
   "outputs": [],
   "source": [
    "import numpy as np\n",
    "import pandas as pd\n",
    "import matplotlib as plt\n",
    "import seaborn as sns\n",
    "from keras.preprocessing.text import Tokenizer\n",
    "from keras.preprocessing.sequence import pad_sequences\n",
    "from keras.models import Sequential\n",
    "from keras.layers import Dense,Embedding,LSTM,SpatialDropout1D,Dropout\n",
    "from sklearn.model_selection import train_test_split\n",
    "from keras.utils.np_utils import to_categorical\n",
    "from keras.callbacks import EarlyStopping\n",
    "import re\n",
    "from nltk.corpus import stopwords\n",
    "from nltk import word_tokenize\n",
    "from bs4 import BeautifulSoup\n"
   ]
  },
  {
   "cell_type": "code",
   "execution_count": 165,
   "metadata": {},
   "outputs": [
    {
     "name": "stderr",
     "output_type": "stream",
     "text": [
      "/anaconda3/lib/python3.6/site-packages/IPython/core/interactiveshell.py:2785: DtypeWarning: Columns (5,11) have mixed types. Specify dtype option on import or set low_memory=False.\n",
      "  interactivity=interactivity, compiler=compiler, result=result)\n"
     ]
    }
   ],
   "source": [
    "df = pd.read_csv('consumer_complaints.csv')"
   ]
  },
  {
   "cell_type": "code",
   "execution_count": 166,
   "metadata": {},
   "outputs": [],
   "source": [
    "df = df[['product','consumer_complaint_narrative']]"
   ]
  },
  {
   "cell_type": "code",
   "execution_count": 167,
   "metadata": {},
   "outputs": [
    {
     "data": {
      "text/html": [
       "<div>\n",
       "<style scoped>\n",
       "    .dataframe tbody tr th:only-of-type {\n",
       "        vertical-align: middle;\n",
       "    }\n",
       "\n",
       "    .dataframe tbody tr th {\n",
       "        vertical-align: top;\n",
       "    }\n",
       "\n",
       "    .dataframe thead th {\n",
       "        text-align: right;\n",
       "    }\n",
       "</style>\n",
       "<table border=\"1\" class=\"dataframe\">\n",
       "  <thead>\n",
       "    <tr style=\"text-align: right;\">\n",
       "      <th></th>\n",
       "      <th>product</th>\n",
       "      <th>consumer_complaint_narrative</th>\n",
       "    </tr>\n",
       "  </thead>\n",
       "  <tbody>\n",
       "    <tr>\n",
       "      <th>0</th>\n",
       "      <td>Mortgage</td>\n",
       "      <td>NaN</td>\n",
       "    </tr>\n",
       "    <tr>\n",
       "      <th>1</th>\n",
       "      <td>Mortgage</td>\n",
       "      <td>NaN</td>\n",
       "    </tr>\n",
       "    <tr>\n",
       "      <th>2</th>\n",
       "      <td>Credit reporting</td>\n",
       "      <td>NaN</td>\n",
       "    </tr>\n",
       "    <tr>\n",
       "      <th>3</th>\n",
       "      <td>Student loan</td>\n",
       "      <td>NaN</td>\n",
       "    </tr>\n",
       "    <tr>\n",
       "      <th>4</th>\n",
       "      <td>Debt collection</td>\n",
       "      <td>NaN</td>\n",
       "    </tr>\n",
       "  </tbody>\n",
       "</table>\n",
       "</div>"
      ],
      "text/plain": [
       "            product consumer_complaint_narrative\n",
       "0          Mortgage                          NaN\n",
       "1          Mortgage                          NaN\n",
       "2  Credit reporting                          NaN\n",
       "3      Student loan                          NaN\n",
       "4   Debt collection                          NaN"
      ]
     },
     "execution_count": 167,
     "metadata": {},
     "output_type": "execute_result"
    }
   ],
   "source": [
    "df.head()"
   ]
  },
  {
   "cell_type": "code",
   "execution_count": 168,
   "metadata": {},
   "outputs": [
    {
     "name": "stdout",
     "output_type": "stream",
     "text": [
      "<class 'pandas.core.frame.DataFrame'>\n",
      "RangeIndex: 555957 entries, 0 to 555956\n",
      "Data columns (total 2 columns):\n",
      "product                         555957 non-null object\n",
      "consumer_complaint_narrative    66806 non-null object\n",
      "dtypes: object(2)\n",
      "memory usage: 8.5+ MB\n"
     ]
    }
   ],
   "source": [
    "df.info()"
   ]
  },
  {
   "cell_type": "code",
   "execution_count": 169,
   "metadata": {},
   "outputs": [],
   "source": [
    "df = df[pd.notnull(df['consumer_complaint_narrative'])]"
   ]
  },
  {
   "cell_type": "code",
   "execution_count": 170,
   "metadata": {},
   "outputs": [
    {
     "name": "stdout",
     "output_type": "stream",
     "text": [
      "<class 'pandas.core.frame.DataFrame'>\n",
      "Int64Index: 66806 entries, 190126 to 553096\n",
      "Data columns (total 2 columns):\n",
      "product                         66806 non-null object\n",
      "consumer_complaint_narrative    66806 non-null object\n",
      "dtypes: object(2)\n",
      "memory usage: 1.5+ MB\n"
     ]
    }
   ],
   "source": [
    "df.info()"
   ]
  },
  {
   "cell_type": "code",
   "execution_count": 171,
   "metadata": {},
   "outputs": [
    {
     "data": {
      "text/html": [
       "<div>\n",
       "<style scoped>\n",
       "    .dataframe tbody tr th:only-of-type {\n",
       "        vertical-align: middle;\n",
       "    }\n",
       "\n",
       "    .dataframe tbody tr th {\n",
       "        vertical-align: top;\n",
       "    }\n",
       "\n",
       "    .dataframe thead th {\n",
       "        text-align: right;\n",
       "    }\n",
       "</style>\n",
       "<table border=\"1\" class=\"dataframe\">\n",
       "  <thead>\n",
       "    <tr style=\"text-align: right;\">\n",
       "      <th></th>\n",
       "      <th>product</th>\n",
       "      <th>consumer_complaint_narrative</th>\n",
       "    </tr>\n",
       "  </thead>\n",
       "  <tbody>\n",
       "    <tr>\n",
       "      <th>190126</th>\n",
       "      <td>Debt collection</td>\n",
       "      <td>XXXX has claimed I owe them {$27.00} for XXXX ...</td>\n",
       "    </tr>\n",
       "    <tr>\n",
       "      <th>190135</th>\n",
       "      <td>Consumer Loan</td>\n",
       "      <td>Due to inconsistencies in the amount owed that...</td>\n",
       "    </tr>\n",
       "    <tr>\n",
       "      <th>190155</th>\n",
       "      <td>Mortgage</td>\n",
       "      <td>In XX/XX/XXXX my wages that I earned at my job...</td>\n",
       "    </tr>\n",
       "    <tr>\n",
       "      <th>190207</th>\n",
       "      <td>Mortgage</td>\n",
       "      <td>I have an open and current mortgage with Chase...</td>\n",
       "    </tr>\n",
       "    <tr>\n",
       "      <th>190208</th>\n",
       "      <td>Mortgage</td>\n",
       "      <td>XXXX was submitted XX/XX/XXXX. At the time I s...</td>\n",
       "    </tr>\n",
       "  </tbody>\n",
       "</table>\n",
       "</div>"
      ],
      "text/plain": [
       "                product                       consumer_complaint_narrative\n",
       "190126  Debt collection  XXXX has claimed I owe them {$27.00} for XXXX ...\n",
       "190135    Consumer Loan  Due to inconsistencies in the amount owed that...\n",
       "190155         Mortgage  In XX/XX/XXXX my wages that I earned at my job...\n",
       "190207         Mortgage  I have an open and current mortgage with Chase...\n",
       "190208         Mortgage  XXXX was submitted XX/XX/XXXX. At the time I s..."
      ]
     },
     "execution_count": 171,
     "metadata": {},
     "output_type": "execute_result"
    }
   ],
   "source": [
    "df.head()"
   ]
  },
  {
   "cell_type": "code",
   "execution_count": 172,
   "metadata": {},
   "outputs": [
    {
     "data": {
      "text/plain": [
       "Debt collection            17552\n",
       "Mortgage                   14919\n",
       "Credit reporting           12526\n",
       "Credit card                 7929\n",
       "Bank account or service     5711\n",
       "Consumer Loan               3678\n",
       "Student loan                2128\n",
       "Prepaid card                 861\n",
       "Payday loan                  726\n",
       "Money transfers              666\n",
       "Other financial service      110\n",
       "Name: product, dtype: int64"
      ]
     },
     "execution_count": 172,
     "metadata": {},
     "output_type": "execute_result"
    }
   ],
   "source": [
    "df['product'].value_counts()"
   ]
  },
  {
   "cell_type": "code",
   "execution_count": 173,
   "metadata": {},
   "outputs": [
    {
     "data": {
      "text/plain": [
       "<matplotlib.axes._subplots.AxesSubplot at 0x1a54f3d048>"
      ]
     },
     "execution_count": 173,
     "metadata": {},
     "output_type": "execute_result"
    },
    {
     "data": {
      "image/png": "[encoded data removed]",
      "text/plain": [
       "<Figure size 432x288 with 1 Axes>"
      ]
     },
     "metadata": {},
     "output_type": "display_data"
    }
   ],
   "source": [
    "df['product'].value_counts().sort_values(ascending=False).plot.bar(title = 'Number of complains in each group')"
   ]
  },
  {
   "cell_type": "code",
   "execution_count": 174,
   "metadata": {},
   "outputs": [
    {
     "data": {
      "text/plain": [
       "'I am very disappointed that the CFPB did not help to resolve this fraudulant loan. # XXXX between XXXX XXXX and XXXX, FF ( AKA ) One West. Case # XXXX with CFPB. \\n'"
      ]
     },
     "execution_count": 174,
     "metadata": {},
     "output_type": "execute_result"
    }
   ],
   "source": [
    "df.iloc[10]['consumer_complaint_narrative']"
   ]
  },
  {
   "cell_type": "code",
   "execution_count": 175,
   "metadata": {},
   "outputs": [
    {
     "data": {
      "text/plain": [
       "\"We opened an account with Freedom Funiture in XXXX paid as agreed and refinanced in XXXX. We paid as agreed until we became unable to pay the full amount in XXXX. We made an agreement to pay a lesser amount per month and kept paying via allotment. Freedom got a judgement against us while I was training. I was not served with the judgement prior to court or after ... I was informed of it when my wages began to be garnished. They got the judgement in XXXX VA. XXXX # XXXX Filed XXXX. \\nI did not sign a contract in VA I signed my contract in GA. They garnished my wages causing finacial distress. I was able to get that stopped through XXXX. However the judgement remains and has severely damaged our credit preventing us from buying a home and upgrading our vehicles. We have asked repeatedly to have this issue fixed based on the fact that the judgement was not served on me ever and the fact that they have caused so much financial distress and ruin. We were told we 'd have to go to VA to fix it. We have in total paid this company nearly {$25000.00} over the last 11 years. for a couch and loveseat, computer hutch, table and chairs. the furniture has not lasted however the payments and ruin continue the judgement says we still owe XXXX. We need assistance as we have tried every other step possible to fix this without aid. \\n\""
      ]
     },
     "execution_count": 175,
     "metadata": {},
     "output_type": "execute_result"
    }
   ],
   "source": [
    "df.iloc[50]['consumer_complaint_narrative']"
   ]
  },
  {
   "cell_type": "markdown",
   "metadata": {},
   "source": [
    "# Text preprocessing"
   ]
  },
  {
   "cell_type": "code",
   "execution_count": 176,
   "metadata": {},
   "outputs": [],
   "source": [
    "df = df.reset_index(drop = True)\n",
    "REPLACE_BY_SPACE_RE = re.compile('[/(){}\\[\\]\\|@,;]')\n",
    "BAD_SYMBOLS_RE = re.compile('[^0-9a-z #+ _]')\n",
    "XX_RE=re.compile('x{2,10}')\n",
    "#STOPWORDS = set(stopwords.words)"
   ]
  },
  {
   "cell_type": "code",
   "execution_count": 177,
   "metadata": {},
   "outputs": [
    {
     "data": {
      "text/plain": [
       "\"we opened an account with freedom funiture in xxxx paid as agreed and refinanced in xxxx. we paid as agreed until we became unable to pay the full amount in xxxx. we made an agreement to pay a lesser amount per month and kept paying via allotment. freedom got a judgement against us while i was training. i was not served with the judgement prior to court or after ... i was informed of it when my wages began to be garnished. they got the judgement in xxxx va. xxxx # xxxx filed xxxx. \\ni did not sign a contract in va i signed my contract in ga. they garnished my wages causing finacial distress. i was able to get that stopped through xxxx. however the judgement remains and has severely damaged our credit preventing us from buying a home and upgrading our vehicles. we have asked repeatedly to have this issue fixed based on the fact that the judgement was not served on me ever and the fact that they have caused so much financial distress and ruin. we were told we 'd have to go to va to fix it. we have in total paid this company nearly {$25000.00} over the last 11 years. for a couch and loveseat, computer hutch, table and chairs. the furniture has not lasted however the payments and ruin continue the judgement says we still owe xxxx. we need assistance as we have tried every other step possible to fix this without aid. \\n\""
      ]
     },
     "execution_count": 177,
     "metadata": {},
     "output_type": "execute_result"
    }
   ],
   "source": [
    "a =df.iloc[50]['consumer_complaint_narrative']\n",
    "a=a.lower()\n",
    "a"
   ]
  },
  {
   "cell_type": "code",
   "execution_count": 178,
   "metadata": {},
   "outputs": [
    {
     "data": {
      "text/plain": [
       "\"we opened an account with freedom funiture in xxxx paid as agreed and refinanced in xxxx. we paid as agreed until we became unable to pay the full amount in xxxx. we made an agreement to pay a lesser amount per month and kept paying via allotment. freedom got a judgement against us while i was training. i was not served with the judgement prior to court or after ... i was informed of it when my wages began to be garnished. they got the judgement in xxxx va. xxxx # xxxx filed xxxx. \\ni did not sign a contract in va i signed my contract in ga. they garnished my wages causing finacial distress. i was able to get that stopped through xxxx. however the judgement remains and has severely damaged our credit preventing us from buying a home and upgrading our vehicles. we have asked repeatedly to have this issue fixed based on the fact that the judgement was not served on me ever and the fact that they have caused so much financial distress and ruin. we were told we 'd have to go to va to fix it. we have in total paid this company nearly  $25000.00  over the last 11 years. for a couch and loveseat  computer hutch  table and chairs. the furniture has not lasted however the payments and ruin continue the judgement says we still owe xxxx. we need assistance as we have tried every other step possible to fix this without aid. \\n\""
      ]
     },
     "execution_count": 178,
     "metadata": {},
     "output_type": "execute_result"
    }
   ],
   "source": [
    "REPLACE_BY_SPACE_RE.sub(' ',a)"
   ]
  },
  {
   "cell_type": "code",
   "execution_count": 179,
   "metadata": {},
   "outputs": [
    {
     "data": {
      "text/plain": [
       "'we opened an account with freedom funiture in xxxx paid as agreed and refinanced in xxxx we paid as agreed until we became unable to pay the full amount in xxxx we made an agreement to pay a lesser amount per month and kept paying via allotment freedom got a judgement against us while i was training i was not served with the judgement prior to court or after  i was informed of it when my wages began to be garnished they got the judgement in xxxx va xxxx # xxxx filed xxxx i did not sign a contract in va i signed my contract in ga they garnished my wages causing finacial distress i was able to get that stopped through xxxx however the judgement remains and has severely damaged our credit preventing us from buying a home and upgrading our vehicles we have asked repeatedly to have this issue fixed based on the fact that the judgement was not served on me ever and the fact that they have caused so much financial distress and ruin we were told we d have to go to va to fix it we have in total paid this company nearly 2500000 over the last 11 years for a couch and loveseat computer hutch table and chairs the furniture has not lasted however the payments and ruin continue the judgement says we still owe xxxx we need assistance as we have tried every other step possible to fix this without aid '"
      ]
     },
     "execution_count": 179,
     "metadata": {},
     "output_type": "execute_result"
    }
   ],
   "source": [
    "a=BAD_SYMBOLS_RE.sub('',a)\n",
    "a"
   ]
  },
  {
   "cell_type": "code",
   "execution_count": 180,
   "metadata": {},
   "outputs": [
    {
     "data": {
      "text/plain": [
       "'we opened an account with freedom funiture in  paid as agreed and refinanced in  we paid as agreed until we became unable to pay the full amount in  we made an agreement to pay a lesser amount per month and kept paying via allotment freedom got a judgement against us while i was training i was not served with the judgement prior to court or after  i was informed of it when my wages began to be garnished they got the judgement in  va  #  filed  i did not sign a contract in va i signed my contract in ga they garnished my wages causing finacial distress i was able to get that stopped through  however the judgement remains and has severely damaged our credit preventing us from buying a home and upgrading our vehicles we have asked repeatedly to have this issue fixed based on the fact that the judgement was not served on me ever and the fact that they have caused so much financial distress and ruin we were told we d have to go to va to fix it we have in total paid this company nearly 2500000 over the last 11 years for a couch and loveseat computer hutch table and chairs the furniture has not lasted however the payments and ruin continue the judgement says we still owe  we need assistance as we have tried every other step possible to fix this without aid '"
      ]
     },
     "execution_count": 180,
     "metadata": {},
     "output_type": "execute_result"
    }
   ],
   "source": [
    "a = XX_RE.sub('',a)\n",
    "a"
   ]
  },
  {
   "cell_type": "code",
   "execution_count": 185,
   "metadata": {},
   "outputs": [],
   "source": [
    "def clean_text(text):\n",
    "    text = text.lower()\n",
    "    text = REPLACE_BY_SPACE_RE.sub(' ',text) # substitude the matches string in REPLACE_BY_SPACE_RE with space\n",
    "    text = BAD_SYMBOLS_RE.sub('',text) #substitude the matched string in BAD_SYMBOLS_RE with nothing\n",
    "    text = XX_RE.sub('',text) # Remove 'xxx' in text\n",
    "    text = ' '.join(word for word in text.split())\n",
    "    return text"
   ]
  },
  {
   "cell_type": "code",
   "execution_count": 187,
   "metadata": {},
   "outputs": [],
   "source": [
    "df['consumer_complaint_narrative'] = df['consumer_complaint_narrative'].apply(clean_text)\n",
    "df['consumer_complaint_narrative'] = df['consumer_complaint_narrative'].str.replace('\\d+','') # remove digits in text"
   ]
  },
  {
   "cell_type": "code",
   "execution_count": 188,
   "metadata": {},
   "outputs": [
    {
     "data": {
      "text/html": [
       "<div>\n",
       "<style scoped>\n",
       "    .dataframe tbody tr th:only-of-type {\n",
       "        vertical-align: middle;\n",
       "    }\n",
       "\n",
       "    .dataframe tbody tr th {\n",
       "        vertical-align: top;\n",
       "    }\n",
       "\n",
       "    .dataframe thead th {\n",
       "        text-align: right;\n",
       "    }\n",
       "</style>\n",
       "<table border=\"1\" class=\"dataframe\">\n",
       "  <thead>\n",
       "    <tr style=\"text-align: right;\">\n",
       "      <th></th>\n",
       "      <th>product</th>\n",
       "      <th>consumer_complaint_narrative</th>\n",
       "    </tr>\n",
       "  </thead>\n",
       "  <tbody>\n",
       "    <tr>\n",
       "      <th>0</th>\n",
       "      <td>Debt collection</td>\n",
       "      <td>has claimed i owe them  for years despite the ...</td>\n",
       "    </tr>\n",
       "    <tr>\n",
       "      <th>1</th>\n",
       "      <td>Consumer Loan</td>\n",
       "      <td>due to inconsistencies in the amount owed that...</td>\n",
       "    </tr>\n",
       "    <tr>\n",
       "      <th>2</th>\n",
       "      <td>Mortgage</td>\n",
       "      <td>in my wages that i earned at my job decreased ...</td>\n",
       "    </tr>\n",
       "    <tr>\n",
       "      <th>3</th>\n",
       "      <td>Mortgage</td>\n",
       "      <td>i have an open and current mortgage with chase...</td>\n",
       "    </tr>\n",
       "    <tr>\n",
       "      <th>4</th>\n",
       "      <td>Mortgage</td>\n",
       "      <td>was submitted at the time i submitted this com...</td>\n",
       "    </tr>\n",
       "  </tbody>\n",
       "</table>\n",
       "</div>"
      ],
      "text/plain": [
       "           product                       consumer_complaint_narrative\n",
       "0  Debt collection  has claimed i owe them  for years despite the ...\n",
       "1    Consumer Loan  due to inconsistencies in the amount owed that...\n",
       "2         Mortgage  in my wages that i earned at my job decreased ...\n",
       "3         Mortgage  i have an open and current mortgage with chase...\n",
       "4         Mortgage  was submitted at the time i submitted this com..."
      ]
     },
     "execution_count": 188,
     "metadata": {},
     "output_type": "execute_result"
    }
   ],
   "source": [
    "df.head()"
   ]
  },
  {
   "cell_type": "markdown",
   "metadata": {},
   "source": [
    "# LSTM Modeling"
   ]
  },
  {
   "cell_type": "code",
   "execution_count": 200,
   "metadata": {},
   "outputs": [],
   "source": [
    "MAX_NUM_WORDS = 50000 # LIMIT THE DATASET TO THE TOP 50000 WORDS\n",
    "MAX_SEQUENCE_LENGTH = 250 # set the max number of words in each complaint to be 250\n",
    "EMBEDDING_DIM =100\n",
    "\n",
    "tokenizer = Tokenizer(num_words = MAX_NUM_WORDS,filters = '!\"#$%&()*+,-./:;<=>?@[\\]^_`{|}~',lower = True)\n",
    "tokenizer.fit_on_texts(df['consumer_complaint_narrative'])\n",
    "word_index = tokenizer.word_index"
   ]
  },
  {
   "cell_type": "code",
   "execution_count": 196,
   "metadata": {},
   "outputs": [
    {
     "name": "stdout",
     "output_type": "stream",
     "text": [
      "There is 56995 unique tokens\n"
     ]
    }
   ],
   "source": [
    "print('There is %s unique tokens' %len(word_index))"
   ]
  },
  {
   "cell_type": "code",
   "execution_count": 201,
   "metadata": {},
   "outputs": [
    {
     "name": "stdout",
     "output_type": "stream",
     "text": [
      "Shape of data tensor (66806, 250)\n"
     ]
    }
   ],
   "source": [
    "X= tokenizer.texts_to_sequences(df['consumer_complaint_narrative'])\n",
    "X = pad_sequences(X,maxlen = MAX_SEQUENCE_LENGTH)\n",
    "print('Shape of data tensor', X.shape)"
   ]
  },
  {
   "cell_type": "code",
   "execution_count": 203,
   "metadata": {},
   "outputs": [
    {
     "name": "stdout",
     "output_type": "stream",
     "text": [
      "Shape of label tensor (66806, 11)\n"
     ]
    }
   ],
   "source": [
    "Y = pd.get_dummies(df['product'])\n",
    "print('Shape of label tensor', Y.shape)"
   ]
  },
  {
   "cell_type": "code",
   "execution_count": 204,
   "metadata": {},
   "outputs": [],
   "source": [
    "X_train,X_test,Y_train,Y_test = train_test_split(X,Y,random_state = 0)"
   ]
  },
  {
   "cell_type": "markdown",
   "metadata": {},
   "source": [
    "# Build the model"
   ]
  },
  {
   "cell_type": "code",
   "execution_count": 217,
   "metadata": {},
   "outputs": [],
   "source": [
    "model = Sequential()\n",
    "model.add(Embedding(input_dim = MAX_NUM_WORDS,output_dim = EMBEDDING_DIM,input_length = X.shape[1]))\n",
    "model.add(SpatialDropout1D(0.2))\n",
    "model.add(LSTM(100,dropout = 0.2, recurrent_dropout = 0.2))\n",
    "model.add(Dense(11,activation = 'softmax'))\n",
    "model.compile(loss = 'categorical_crossentropy',optimizer = 'adam',metrics = ['accuracy'])"
   ]
  },
  {
   "cell_type": "code",
   "execution_count": 215,
   "metadata": {},
   "outputs": [
    {
     "name": "stdout",
     "output_type": "stream",
     "text": [
      "_________________________________________________________________\n",
      "Layer (type)                 Output Shape              Param #   \n",
      "=================================================================\n",
      "embedding_5 (Embedding)      (None, 250, 100)          5000000   \n",
      "_________________________________________________________________\n",
      "spatial_dropout1d_4 (Spatial (None, 250, 100)          0         \n",
      "_________________________________________________________________\n",
      "lstm_4 (LSTM)                (None, 100)               80400     \n",
      "_________________________________________________________________\n",
      "dense_4 (Dense)              (None, 11)                1111      \n",
      "=================================================================\n",
      "Total params: 5,081,511\n",
      "Trainable params: 5,081,511\n",
      "Non-trainable params: 0\n",
      "_________________________________________________________________\n"
     ]
    }
   ],
   "source": [
    "model.summary()"
   ]
  },
  {
   "cell_type": "code",
   "execution_count": 221,
   "metadata": {},
   "outputs": [
    {
     "name": "stdout",
     "output_type": "stream",
     "text": [
      "Train on 45093 samples, validate on 5011 samples\n",
      "Epoch 1/2\n",
      "45093/45093 [==============================] - 1203s 27ms/step - loss: 0.9565 - acc: 0.7089 - val_loss: 0.8371 - val_acc: 0.7440\n",
      "Epoch 2/2\n",
      "45093/45093 [==============================] - 1008s 22ms/step - loss: 0.7385 - acc: 0.7749 - val_loss: 0.6972 - val_acc: 0.7839\n"
     ]
    }
   ],
   "source": [
    "epochs = 2\n",
    "batch_size = 64\n",
    "history = model.fit(X_train,Y_train,epochs = epochs,batch_size = batch_size,validation_split = 0.1)"
   ]
  },
  {
   "cell_type": "code",
   "execution_count": 222,
   "metadata": {},
   "outputs": [
    {
     "name": "stdout",
     "output_type": "stream",
     "text": [
      "16702/16702 [==============================] - 136s 8ms/step\n",
      "Test set \n",
      " loss: 0.681469\n",
      " accuracy: 0.791941 \n",
      "\n"
     ]
    }
   ],
   "source": [
    "accuracy = model.evaluate(X_test,Y_test)\n",
    "print('Test set \\n loss: %f\\n accuracy: %f \\n'%(accuracy[0],accuracy[1]))"
   ]
  },
  {
   "cell_type": "code",
   "execution_count": null,
   "metadata": {},
   "outputs": [],
   "source": []
  }
 ],
 "metadata": {
  "kernelspec": {
   "display_name": "Python 3",
   "language": "python",
   "name": "python3"
  },
  "language_info": {
   "codemirror_mode": {
    "name": "ipython",
    "version": 3
   },
   "file_extension": ".py",
   "mimetype": "text/x-python",
   "name": "python",
   "nbconvert_exporter": "python",
   "pygments_lexer": "ipython3",
   "version": "3.6.8"
  }
 },
 "nbformat": 4,
 "nbformat_minor": 2
}
